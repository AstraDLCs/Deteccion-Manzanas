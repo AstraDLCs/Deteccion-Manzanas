{
 "cells": [
  {
   "cell_type": "code",
   "execution_count": null,
   "metadata": {
    "colab": {
     "base_uri": "https://localhost:8080/"
    },
    "id": "b7QOBgYYzXDL",
    "outputId": "f7308483-369a-482d-aac4-9494368e2601"
   },
   "outputs": [],
   "source": [
    "!pip install ultralytics"
   ]
  },
  {
   "cell_type": "code",
   "execution_count": null,
   "metadata": {
    "colab": {
     "base_uri": "https://localhost:8080/"
    },
    "id": "fhb0XZBlhxjx",
    "outputId": "79c3206f-48e3-40fc-ab47-50480c15bbd0"
   },
   "outputs": [],
   "source": [
    "import os\n",
    "from ultralytics import YOLO\n",
    "import torch"
   ]
  },
  {
   "cell_type": "code",
   "execution_count": null,
   "metadata": {
    "id": "bex3doRozPqC"
   },
   "outputs": [],
   "source": [
    "ROOT_DIR = ''\n",
    "model = YOLO(\"yolo11n.pt\")\n",
    "device = 'cuda' if torch.cuda.is_available() else 'cpu'\n",
    "model.to(device)"
   ]
  },
  {
   "cell_type": "code",
   "execution_count": null,
   "metadata": {
    "colab": {
     "base_uri": "https://localhost:8080/"
    },
    "id": "7e6yA1yozjDM",
    "outputId": "88e6df2f-4a9f-4ada-b2b2-8183ac5d930d"
   },
   "outputs": [],
   "source": [
    "results = model.train(data=os.path.join(ROOT_DIR, \"config.yaml\"), epochs=200, device=device)"
   ]
  },
  {
   "cell_type": "code",
   "execution_count": null,
   "metadata": {
    "colab": {
     "base_uri": "https://localhost:8080/"
    },
    "id": "PYFw6u2Z2Xom",
    "outputId": "7e113651-bc86-4dab-9f66-a205e887dda1"
   },
   "outputs": [],
   "source": [
    "import shutil\n",
    "\n",
    "folder_to_zip = \"runs\"\n",
    "\n",
    "output_zip = \"runs_compressed.zip\"\n",
    "\n",
    "shutil.make_archive(output_zip.replace('.zip', ''), 'zip', folder_to_zip)\n",
    "\n",
    "print(f\"La carpeta {folder_to_zip} ha sido comprimida en {output_zip}.\")\n"
   ]
  }
 ],
 "metadata": {
  "accelerator": "GPU",
  "colab": {
   "gpuType": "T4",
   "provenance": []
  },
  "kernelspec": {
   "display_name": "Python 3",
   "name": "python3"
  },
  "language_info": {
   "name": "python"
  }
 },
 "nbformat": 4,
 "nbformat_minor": 0
}
